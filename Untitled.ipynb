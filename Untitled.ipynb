{
 "cells": [
  {
   "cell_type": "code",
   "execution_count": 3,
   "id": "19af371c-bf10-4652-bee5-9d33a63082ff",
   "metadata": {},
   "outputs": [],
   "source": [
    "import pandas as pd\n",
    "from sklearn.model_selection import train_test_split\n",
    "from sklearn.preprocessing import LabelEncoder"
   ]
  },
  {
   "cell_type": "code",
   "execution_count": 4,
   "id": "e8897bd7-04d6-4618-b15b-7a100f521260",
   "metadata": {},
   "outputs": [],
   "source": [
    "# Load the data\n",
    "data = pd.read_csv('tree2.csv')"
   ]
  },
  {
   "cell_type": "code",
   "execution_count": 5,
   "id": "cbacd5c1-9d4f-4617-80e5-2e733268491a",
   "metadata": {},
   "outputs": [],
   "source": [
    "# Encode the species labels\n",
    "label_encoder = LabelEncoder()\n",
    "data['species'] = label_encoder.fit_transform(data['species'])\n"
   ]
  },
  {
   "cell_type": "code",
   "execution_count": 6,
   "id": "ef9d29d3-235b-4b28-b449-af9e1abfd7de",
   "metadata": {},
   "outputs": [],
   "source": [
    "# Split the features and labels\n",
    "X = data[['leaf_length', 'leaf_b_width', 'leaf_m_width', 'leaf_e_width', 'roughness','leaf_thickness']]\n",
    "y = data['species']"
   ]
  },
  {
   "cell_type": "code",
   "execution_count": 7,
   "id": "0ce9fb28-3fe9-40c9-9fde-fcbcdc183646",
   "metadata": {},
   "outputs": [],
   "source": [
    "# Split the data into training and testing sets\n",
    "X_train, X_test, y_train, y_test = train_test_split(X, y, test_size=0.2, random_state=42)\n"
   ]
  },
  {
   "cell_type": "code",
   "execution_count": 8,
   "id": "224f3c2c-4df9-4a92-add1-6fa19c0f7b9b",
   "metadata": {},
   "outputs": [],
   "source": [
    "import tensorflow as tf\n",
    "from tensorflow.keras.models import Sequential\n",
    "from tensorflow.keras.layers import Dense"
   ]
  },
  {
   "cell_type": "code",
   "execution_count": 9,
   "id": "5607a29f-2f4d-4807-96b3-3664c40d0698",
   "metadata": {},
   "outputs": [],
   "source": [
    "# Define the model\n",
    "model = Sequential()\n",
    "model.add(Dense(64, input_dim=X_train.shape[1], activation='relu'))\n",
    "model.add(Dense(32, activation='relu'))\n",
    "model.add(Dense(16, activation='relu'))\n",
    "model.add(Dense(3, activation='softmax'))  "
   ]
  },
  {
   "cell_type": "code",
   "execution_count": 10,
   "id": "5138daf6-19df-49fc-bac0-475fd26fb53c",
   "metadata": {},
   "outputs": [],
   "source": [
    "# Compile the model\n",
    "model.compile(loss='sparse_categorical_crossentropy', optimizer='adam', metrics=['accuracy'])\n",
    "\n"
   ]
  },
  {
   "cell_type": "code",
   "execution_count": 11,
   "id": "7288c896-d6b3-4ff8-8fd4-3d3c82d4ba2b",
   "metadata": {},
   "outputs": [
    {
     "name": "stdout",
     "output_type": "stream",
     "text": [
      "Epoch 1/100\n",
      " 1/13 [=>............................] - ETA: 1s - loss: 1.4787 - accuracy: 0.2000"
     ]
    },
    {
     "name": "stderr",
     "output_type": "stream",
     "text": [
      "2024-05-27 16:45:01.763406: W tensorflow/tsl/platform/profile_utils/cpu_utils.cc:128] Failed to get CPU frequency: 0 Hz\n"
     ]
    },
    {
     "name": "stdout",
     "output_type": "stream",
     "text": [
      "13/13 [==============================] - 0s 6ms/step - loss: 1.3304 - accuracy: 0.1875 - val_loss: 1.0201 - val_accuracy: 0.2500\n",
      "Epoch 2/100\n",
      "13/13 [==============================] - 0s 1ms/step - loss: 1.1263 - accuracy: 0.2500 - val_loss: 1.2013 - val_accuracy: 0.2500\n",
      "Epoch 3/100\n",
      "13/13 [==============================] - 0s 1ms/step - loss: 1.0868 - accuracy: 0.2344 - val_loss: 1.0960 - val_accuracy: 0.2500\n",
      "Epoch 4/100\n",
      "13/13 [==============================] - 0s 1ms/step - loss: 1.1404 - accuracy: 0.2969 - val_loss: 1.1854 - val_accuracy: 0.1250\n",
      "Epoch 5/100\n",
      "13/13 [==============================] - 0s 1ms/step - loss: 1.1000 - accuracy: 0.2500 - val_loss: 1.1172 - val_accuracy: 0.2500\n",
      "Epoch 6/100\n",
      "13/13 [==============================] - 0s 1ms/step - loss: 1.0471 - accuracy: 0.3125 - val_loss: 1.0284 - val_accuracy: 0.2500\n",
      "Epoch 7/100\n",
      "13/13 [==============================] - 0s 1ms/step - loss: 1.0599 - accuracy: 0.3750 - val_loss: 1.1236 - val_accuracy: 0.3750\n",
      "Epoch 8/100\n",
      "13/13 [==============================] - 0s 1ms/step - loss: 1.0490 - accuracy: 0.5625 - val_loss: 1.0179 - val_accuracy: 1.0000\n",
      "Epoch 9/100\n",
      "13/13 [==============================] - 0s 1ms/step - loss: 1.0479 - accuracy: 0.5000 - val_loss: 1.0673 - val_accuracy: 0.2500\n",
      "Epoch 10/100\n",
      "13/13 [==============================] - 0s 1ms/step - loss: 1.0095 - accuracy: 0.3125 - val_loss: 1.0405 - val_accuracy: 0.2500\n",
      "Epoch 11/100\n",
      "13/13 [==============================] - 0s 1ms/step - loss: 1.0153 - accuracy: 0.4375 - val_loss: 1.0222 - val_accuracy: 0.5000\n",
      "Epoch 12/100\n",
      "13/13 [==============================] - 0s 1ms/step - loss: 0.9929 - accuracy: 0.5469 - val_loss: 1.0036 - val_accuracy: 0.2500\n",
      "Epoch 13/100\n",
      "13/13 [==============================] - 0s 1ms/step - loss: 0.9968 - accuracy: 0.5000 - val_loss: 1.0206 - val_accuracy: 0.2500\n",
      "Epoch 14/100\n",
      "13/13 [==============================] - 0s 1ms/step - loss: 0.9728 - accuracy: 0.3438 - val_loss: 1.0339 - val_accuracy: 0.3750\n",
      "Epoch 15/100\n",
      "13/13 [==============================] - 0s 1ms/step - loss: 0.9884 - accuracy: 0.6875 - val_loss: 1.1205 - val_accuracy: 0.1250\n",
      "Epoch 16/100\n",
      "13/13 [==============================] - 0s 1ms/step - loss: 0.9588 - accuracy: 0.6875 - val_loss: 0.9550 - val_accuracy: 1.0000\n",
      "Epoch 17/100\n",
      "13/13 [==============================] - 0s 1ms/step - loss: 0.9661 - accuracy: 0.5469 - val_loss: 0.9800 - val_accuracy: 0.2500\n",
      "Epoch 18/100\n",
      "13/13 [==============================] - 0s 1ms/step - loss: 0.9425 - accuracy: 0.5312 - val_loss: 0.9251 - val_accuracy: 0.8750\n",
      "Epoch 19/100\n",
      "13/13 [==============================] - 0s 1ms/step - loss: 0.9406 - accuracy: 0.5469 - val_loss: 0.9684 - val_accuracy: 0.3750\n",
      "Epoch 20/100\n",
      "13/13 [==============================] - 0s 1ms/step - loss: 0.9099 - accuracy: 0.7344 - val_loss: 0.9514 - val_accuracy: 0.2500\n",
      "Epoch 21/100\n",
      "13/13 [==============================] - 0s 1ms/step - loss: 0.9093 - accuracy: 0.5156 - val_loss: 0.8937 - val_accuracy: 1.0000\n",
      "Epoch 22/100\n",
      "13/13 [==============================] - 0s 1ms/step - loss: 0.8719 - accuracy: 0.7500 - val_loss: 0.9148 - val_accuracy: 0.8750\n",
      "Epoch 23/100\n",
      "13/13 [==============================] - 0s 1ms/step - loss: 0.8579 - accuracy: 0.8750 - val_loss: 0.8400 - val_accuracy: 0.8750\n",
      "Epoch 24/100\n",
      "13/13 [==============================] - 0s 1ms/step - loss: 0.8601 - accuracy: 0.7656 - val_loss: 0.9526 - val_accuracy: 0.3750\n",
      "Epoch 25/100\n",
      "13/13 [==============================] - 0s 1ms/step - loss: 0.8514 - accuracy: 0.7656 - val_loss: 0.7552 - val_accuracy: 0.8750\n",
      "Epoch 26/100\n",
      "13/13 [==============================] - 0s 1ms/step - loss: 0.8382 - accuracy: 0.6406 - val_loss: 0.9348 - val_accuracy: 0.3750\n",
      "Epoch 27/100\n",
      "13/13 [==============================] - 0s 1ms/step - loss: 0.8109 - accuracy: 0.6406 - val_loss: 0.7395 - val_accuracy: 0.8750\n",
      "Epoch 28/100\n",
      "13/13 [==============================] - 0s 1ms/step - loss: 0.7978 - accuracy: 0.7344 - val_loss: 0.8967 - val_accuracy: 0.3750\n",
      "Epoch 29/100\n",
      "13/13 [==============================] - 0s 1ms/step - loss: 0.7639 - accuracy: 0.7188 - val_loss: 0.7749 - val_accuracy: 1.0000\n",
      "Epoch 30/100\n",
      "13/13 [==============================] - 0s 1ms/step - loss: 0.7361 - accuracy: 0.7656 - val_loss: 0.7791 - val_accuracy: 1.0000\n",
      "Epoch 31/100\n",
      "13/13 [==============================] - 0s 1ms/step - loss: 0.7426 - accuracy: 0.7969 - val_loss: 0.8097 - val_accuracy: 0.3750\n",
      "Epoch 32/100\n",
      "13/13 [==============================] - 0s 1ms/step - loss: 0.7476 - accuracy: 0.7188 - val_loss: 0.7054 - val_accuracy: 0.8750\n",
      "Epoch 33/100\n",
      "13/13 [==============================] - 0s 1ms/step - loss: 0.7013 - accuracy: 0.7031 - val_loss: 0.7141 - val_accuracy: 1.0000\n",
      "Epoch 34/100\n",
      "13/13 [==============================] - 0s 1ms/step - loss: 0.6422 - accuracy: 0.9219 - val_loss: 0.9014 - val_accuracy: 0.3750\n",
      "Epoch 35/100\n",
      "13/13 [==============================] - 0s 1ms/step - loss: 0.6731 - accuracy: 0.7188 - val_loss: 0.6702 - val_accuracy: 1.0000\n",
      "Epoch 36/100\n",
      "13/13 [==============================] - 0s 1ms/step - loss: 0.6289 - accuracy: 0.9844 - val_loss: 0.6721 - val_accuracy: 1.0000\n",
      "Epoch 37/100\n",
      "13/13 [==============================] - 0s 1ms/step - loss: 0.6369 - accuracy: 0.7344 - val_loss: 0.5878 - val_accuracy: 0.8750\n",
      "Epoch 38/100\n",
      "13/13 [==============================] - 0s 1ms/step - loss: 0.6027 - accuracy: 0.7656 - val_loss: 0.8253 - val_accuracy: 0.3750\n",
      "Epoch 39/100\n",
      "13/13 [==============================] - 0s 1ms/step - loss: 0.5855 - accuracy: 0.8281 - val_loss: 0.5798 - val_accuracy: 1.0000\n",
      "Epoch 40/100\n",
      "13/13 [==============================] - 0s 1ms/step - loss: 0.5535 - accuracy: 0.9062 - val_loss: 0.7034 - val_accuracy: 0.3750\n",
      "Epoch 41/100\n",
      "13/13 [==============================] - 0s 1ms/step - loss: 0.5396 - accuracy: 0.7656 - val_loss: 0.6212 - val_accuracy: 0.8750\n",
      "Epoch 42/100\n",
      "13/13 [==============================] - 0s 1ms/step - loss: 0.4939 - accuracy: 0.9844 - val_loss: 0.4914 - val_accuracy: 1.0000\n",
      "Epoch 43/100\n",
      "13/13 [==============================] - 0s 1ms/step - loss: 0.4939 - accuracy: 0.9844 - val_loss: 0.5380 - val_accuracy: 1.0000\n",
      "Epoch 44/100\n",
      "13/13 [==============================] - 0s 1ms/step - loss: 0.4674 - accuracy: 0.9062 - val_loss: 0.7184 - val_accuracy: 0.3750\n",
      "Epoch 45/100\n",
      "13/13 [==============================] - 0s 1ms/step - loss: 0.4162 - accuracy: 0.8281 - val_loss: 0.3816 - val_accuracy: 0.8750\n",
      "Epoch 46/100\n",
      "13/13 [==============================] - 0s 1ms/step - loss: 0.4650 - accuracy: 0.7188 - val_loss: 0.5945 - val_accuracy: 0.7500\n",
      "Epoch 47/100\n",
      "13/13 [==============================] - 0s 1ms/step - loss: 0.4362 - accuracy: 0.8750 - val_loss: 0.5506 - val_accuracy: 0.7500\n",
      "Epoch 48/100\n",
      "13/13 [==============================] - 0s 1ms/step - loss: 0.4103 - accuracy: 0.8906 - val_loss: 0.6042 - val_accuracy: 0.3750\n",
      "Epoch 49/100\n",
      "13/13 [==============================] - 0s 1ms/step - loss: 0.4177 - accuracy: 0.8750 - val_loss: 0.4232 - val_accuracy: 1.0000\n",
      "Epoch 50/100\n",
      "13/13 [==============================] - 0s 1ms/step - loss: 0.3664 - accuracy: 0.9844 - val_loss: 0.3772 - val_accuracy: 1.0000\n",
      "Epoch 51/100\n",
      "13/13 [==============================] - 0s 1ms/step - loss: 0.3532 - accuracy: 1.0000 - val_loss: 0.4156 - val_accuracy: 1.0000\n",
      "Epoch 52/100\n",
      "13/13 [==============================] - 0s 1ms/step - loss: 0.3336 - accuracy: 1.0000 - val_loss: 0.3574 - val_accuracy: 1.0000\n",
      "Epoch 53/100\n",
      "13/13 [==============================] - 0s 1ms/step - loss: 0.3783 - accuracy: 0.7812 - val_loss: 0.5136 - val_accuracy: 0.7500\n",
      "Epoch 54/100\n",
      "13/13 [==============================] - 0s 1ms/step - loss: 0.3730 - accuracy: 0.8906 - val_loss: 0.5358 - val_accuracy: 0.7500\n",
      "Epoch 55/100\n",
      "13/13 [==============================] - 0s 1ms/step - loss: 0.3125 - accuracy: 0.9844 - val_loss: 0.3340 - val_accuracy: 1.0000\n",
      "Epoch 56/100\n",
      "13/13 [==============================] - 0s 1ms/step - loss: 0.2937 - accuracy: 0.9844 - val_loss: 0.4888 - val_accuracy: 0.8750\n",
      "Epoch 57/100\n",
      "13/13 [==============================] - 0s 1ms/step - loss: 0.2877 - accuracy: 0.9375 - val_loss: 0.2520 - val_accuracy: 0.8750\n",
      "Epoch 58/100\n",
      "13/13 [==============================] - 0s 1ms/step - loss: 0.2770 - accuracy: 0.9375 - val_loss: 0.3903 - val_accuracy: 1.0000\n",
      "Epoch 59/100\n",
      "13/13 [==============================] - 0s 1ms/step - loss: 0.2640 - accuracy: 1.0000 - val_loss: 0.2771 - val_accuracy: 1.0000\n",
      "Epoch 60/100\n",
      "13/13 [==============================] - 0s 1ms/step - loss: 0.2951 - accuracy: 0.8750 - val_loss: 0.2563 - val_accuracy: 0.8750\n",
      "Epoch 61/100\n",
      "13/13 [==============================] - 0s 1ms/step - loss: 0.3331 - accuracy: 0.8438 - val_loss: 0.2326 - val_accuracy: 1.0000\n",
      "Epoch 62/100\n",
      "13/13 [==============================] - 0s 1ms/step - loss: 0.3049 - accuracy: 0.8125 - val_loss: 0.5469 - val_accuracy: 0.6250\n",
      "Epoch 63/100\n",
      "13/13 [==============================] - 0s 1ms/step - loss: 0.2292 - accuracy: 0.9844 - val_loss: 0.2195 - val_accuracy: 1.0000\n",
      "Epoch 64/100\n",
      "13/13 [==============================] - 0s 1ms/step - loss: 0.2238 - accuracy: 1.0000 - val_loss: 0.2162 - val_accuracy: 1.0000\n",
      "Epoch 65/100\n",
      "13/13 [==============================] - 0s 1ms/step - loss: 0.2538 - accuracy: 0.9531 - val_loss: 0.2965 - val_accuracy: 1.0000\n",
      "Epoch 66/100\n",
      "13/13 [==============================] - 0s 1ms/step - loss: 0.1957 - accuracy: 1.0000 - val_loss: 0.2181 - val_accuracy: 1.0000\n",
      "Epoch 67/100\n",
      "13/13 [==============================] - 0s 1ms/step - loss: 0.2043 - accuracy: 1.0000 - val_loss: 0.3025 - val_accuracy: 1.0000\n",
      "Epoch 68/100\n",
      "13/13 [==============================] - 0s 1ms/step - loss: 0.2233 - accuracy: 1.0000 - val_loss: 0.1878 - val_accuracy: 1.0000\n",
      "Epoch 69/100\n",
      "13/13 [==============================] - 0s 1ms/step - loss: 0.2996 - accuracy: 0.8125 - val_loss: 0.1806 - val_accuracy: 0.8750\n",
      "Epoch 70/100\n",
      "13/13 [==============================] - 0s 1ms/step - loss: 0.2123 - accuracy: 0.9688 - val_loss: 0.2031 - val_accuracy: 1.0000\n",
      "Epoch 71/100\n",
      "13/13 [==============================] - 0s 1ms/step - loss: 0.1564 - accuracy: 1.0000 - val_loss: 0.1932 - val_accuracy: 1.0000\n",
      "Epoch 72/100\n",
      "13/13 [==============================] - 0s 1ms/step - loss: 0.1562 - accuracy: 1.0000 - val_loss: 0.3222 - val_accuracy: 1.0000\n",
      "Epoch 73/100\n",
      "13/13 [==============================] - 0s 1ms/step - loss: 0.1636 - accuracy: 1.0000 - val_loss: 0.1467 - val_accuracy: 1.0000\n",
      "Epoch 74/100\n",
      "13/13 [==============================] - 0s 1ms/step - loss: 0.1550 - accuracy: 1.0000 - val_loss: 0.1351 - val_accuracy: 1.0000\n",
      "Epoch 75/100\n",
      "13/13 [==============================] - 0s 1ms/step - loss: 0.1385 - accuracy: 1.0000 - val_loss: 0.1292 - val_accuracy: 1.0000\n",
      "Epoch 76/100\n",
      "13/13 [==============================] - 0s 1ms/step - loss: 0.1575 - accuracy: 1.0000 - val_loss: 0.1473 - val_accuracy: 1.0000\n",
      "Epoch 77/100\n",
      "13/13 [==============================] - 0s 1ms/step - loss: 0.1346 - accuracy: 1.0000 - val_loss: 0.3075 - val_accuracy: 1.0000\n",
      "Epoch 78/100\n",
      "13/13 [==============================] - 0s 1ms/step - loss: 0.1432 - accuracy: 0.9844 - val_loss: 0.1518 - val_accuracy: 1.0000\n",
      "Epoch 79/100\n",
      "13/13 [==============================] - 0s 1ms/step - loss: 0.1075 - accuracy: 1.0000 - val_loss: 0.1063 - val_accuracy: 1.0000\n",
      "Epoch 80/100\n",
      "13/13 [==============================] - 0s 1ms/step - loss: 0.1100 - accuracy: 1.0000 - val_loss: 0.1096 - val_accuracy: 1.0000\n",
      "Epoch 81/100\n",
      "13/13 [==============================] - 0s 1ms/step - loss: 0.1007 - accuracy: 1.0000 - val_loss: 0.1227 - val_accuracy: 1.0000\n",
      "Epoch 82/100\n",
      "13/13 [==============================] - 0s 1ms/step - loss: 0.1013 - accuracy: 1.0000 - val_loss: 0.1551 - val_accuracy: 1.0000\n",
      "Epoch 83/100\n",
      "13/13 [==============================] - 0s 1ms/step - loss: 0.0967 - accuracy: 1.0000 - val_loss: 0.1325 - val_accuracy: 1.0000\n",
      "Epoch 84/100\n",
      "13/13 [==============================] - 0s 1ms/step - loss: 0.1119 - accuracy: 1.0000 - val_loss: 0.0895 - val_accuracy: 1.0000\n",
      "Epoch 85/100\n",
      "13/13 [==============================] - 0s 1ms/step - loss: 0.0854 - accuracy: 1.0000 - val_loss: 0.0810 - val_accuracy: 1.0000\n",
      "Epoch 86/100\n",
      "13/13 [==============================] - 0s 1ms/step - loss: 0.0743 - accuracy: 1.0000 - val_loss: 0.0869 - val_accuracy: 1.0000\n",
      "Epoch 87/100\n",
      "13/13 [==============================] - 0s 1ms/step - loss: 0.0681 - accuracy: 1.0000 - val_loss: 0.0811 - val_accuracy: 1.0000\n",
      "Epoch 88/100\n",
      "13/13 [==============================] - 0s 1ms/step - loss: 0.0654 - accuracy: 1.0000 - val_loss: 0.0928 - val_accuracy: 1.0000\n",
      "Epoch 89/100\n",
      "13/13 [==============================] - 0s 1ms/step - loss: 0.0663 - accuracy: 1.0000 - val_loss: 0.0951 - val_accuracy: 1.0000\n",
      "Epoch 90/100\n",
      "13/13 [==============================] - 0s 1ms/step - loss: 0.0616 - accuracy: 1.0000 - val_loss: 0.0679 - val_accuracy: 1.0000\n",
      "Epoch 91/100\n",
      "13/13 [==============================] - 0s 1ms/step - loss: 0.0628 - accuracy: 1.0000 - val_loss: 0.0857 - val_accuracy: 1.0000\n",
      "Epoch 92/100\n",
      "13/13 [==============================] - 0s 1ms/step - loss: 0.0528 - accuracy: 1.0000 - val_loss: 0.0627 - val_accuracy: 1.0000\n",
      "Epoch 93/100\n",
      "13/13 [==============================] - 0s 1ms/step - loss: 0.0537 - accuracy: 1.0000 - val_loss: 0.0592 - val_accuracy: 1.0000\n",
      "Epoch 94/100\n",
      "13/13 [==============================] - 0s 1ms/step - loss: 0.0528 - accuracy: 1.0000 - val_loss: 0.0620 - val_accuracy: 1.0000\n",
      "Epoch 95/100\n",
      "13/13 [==============================] - 0s 1ms/step - loss: 0.0463 - accuracy: 1.0000 - val_loss: 0.0698 - val_accuracy: 1.0000\n",
      "Epoch 96/100\n",
      "13/13 [==============================] - 0s 1ms/step - loss: 0.0552 - accuracy: 1.0000 - val_loss: 0.0543 - val_accuracy: 1.0000\n",
      "Epoch 97/100\n",
      "13/13 [==============================] - 0s 1ms/step - loss: 0.0504 - accuracy: 1.0000 - val_loss: 0.0503 - val_accuracy: 1.0000\n",
      "Epoch 98/100\n",
      "13/13 [==============================] - 0s 1ms/step - loss: 0.0476 - accuracy: 1.0000 - val_loss: 0.0523 - val_accuracy: 1.0000\n",
      "Epoch 99/100\n",
      "13/13 [==============================] - 0s 1ms/step - loss: 0.0401 - accuracy: 1.0000 - val_loss: 0.0809 - val_accuracy: 1.0000\n",
      "Epoch 100/100\n",
      "13/13 [==============================] - 0s 1ms/step - loss: 0.0576 - accuracy: 1.0000 - val_loss: 0.0452 - val_accuracy: 1.0000\n"
     ]
    },
    {
     "data": {
      "text/plain": [
       "<keras.callbacks.History at 0x17c776d60>"
      ]
     },
     "execution_count": 11,
     "metadata": {},
     "output_type": "execute_result"
    }
   ],
   "source": [
    "# Train the model\n",
    "model.fit(X_train, y_train, epochs=100, batch_size=5, validation_split=0.1)\n"
   ]
  },
  {
   "cell_type": "code",
   "execution_count": 12,
   "id": "c9e9d7b5-1c74-4e1a-8194-f65e55141951",
   "metadata": {},
   "outputs": [
    {
     "name": "stdout",
     "output_type": "stream",
     "text": [
      "1/1 [==============================] - 0s 9ms/step - loss: 0.0384 - accuracy: 1.0000\n",
      "Test Accuracy: 100.00%\n"
     ]
    }
   ],
   "source": [
    "# Evaluate the model\n",
    "loss, accuracy = model.evaluate(X_test, y_test)\n",
    "print(f'Test Accuracy: {accuracy * 100:.2f}%')\n"
   ]
  },
  {
   "cell_type": "code",
   "execution_count": 13,
   "id": "c5499f81-29e9-45ed-92fc-57d9c7607ed3",
   "metadata": {},
   "outputs": [],
   "source": [
    "# Save the model\n",
    "model.save('tree_classifier_model2.h5')"
   ]
  },
  {
   "cell_type": "code",
   "execution_count": 14,
   "id": "e0458636-a55e-47f8-96a8-37d92157d8e8",
   "metadata": {},
   "outputs": [],
   "source": [
    "# Load the model\n",
    "model = tf.keras.models.load_model('tree_classifier_model2.h5')"
   ]
  },
  {
   "cell_type": "code",
   "execution_count": 18,
   "id": "574f5bf2-1784-4dc9-b139-84858d3c0f8e",
   "metadata": {},
   "outputs": [
    {
     "name": "stdout",
     "output_type": "stream",
     "text": [
      "1/1 [==============================] - 0s 18ms/step\n",
      "Predicted Species: yucca aloifolia\n"
     ]
    }
   ],
   "source": [
    "# prediction\n",
    "import numpy as np\n",
    "\n",
    "new_data = np.array([[57.5, 1.3, 1.9, 0.2, 1, 0.4]])  \n",
    "prediction = model.predict(new_data)\n",
    "predicted_species = label_encoder.inverse_transform([np.argmax(prediction)])\n",
    "print(f'Predicted Species: {predicted_species[0]}')\n"
   ]
  },
  {
   "cell_type": "code",
   "execution_count": 19,
   "id": "a1039bb2-28c0-4a0b-9f34-75accc3ab864",
   "metadata": {},
   "outputs": [
    {
     "name": "stdout",
     "output_type": "stream",
     "text": [
      "1/1 [==============================] - 0s 17ms/step\n",
      "Predicted Species: Phoenix roebelenii\n"
     ]
    }
   ],
   "source": [
    "new_data = np.array([[38.5, 0.3, 1.3, 0.1, 0, 0.1]])  \n",
    "prediction = model.predict(new_data)\n",
    "predicted_species = label_encoder.inverse_transform([np.argmax(prediction)])\n",
    "print(f'Predicted Species: {predicted_species[0]}')"
   ]
  },
  {
   "cell_type": "code",
   "execution_count": 20,
   "id": "f3eb5e86-0955-49bc-87c0-81fb3c5ae50d",
   "metadata": {},
   "outputs": [
    {
     "name": "stdout",
     "output_type": "stream",
     "text": [
      "1/1 [==============================] - 0s 18ms/step\n",
      "Predicted Species: Ptychosperma microcarpum\n"
     ]
    }
   ],
   "source": [
    "new_data = np.array([[48.5, 0.4, 0.8, 0.1, 0, 0.1]])  \n",
    "prediction = model.predict(new_data)\n",
    "predicted_species = label_encoder.inverse_transform([np.argmax(prediction)])\n",
    "print(f'Predicted Species: {predicted_species[0]}')"
   ]
  },
  {
   "cell_type": "code",
   "execution_count": null,
   "id": "fe874533-d8bc-4ff2-849a-a662200b3549",
   "metadata": {},
   "outputs": [],
   "source": []
  }
 ],
 "metadata": {
  "kernelspec": {
   "display_name": "Python 3 (ipykernel)",
   "language": "python",
   "name": "python3"
  },
  "language_info": {
   "codemirror_mode": {
    "name": "ipython",
    "version": 3
   },
   "file_extension": ".py",
   "mimetype": "text/x-python",
   "name": "python",
   "nbconvert_exporter": "python",
   "pygments_lexer": "ipython3",
   "version": "3.8.18"
  }
 },
 "nbformat": 4,
 "nbformat_minor": 5
}
